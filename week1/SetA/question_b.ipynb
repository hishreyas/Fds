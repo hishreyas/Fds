{
 "cells": [
  {
   "cell_type": "code",
   "execution_count": 2,
   "id": "7281a618",
   "metadata": {},
   "outputs": [
    {
     "name": "stdout",
     "output_type": "stream",
     "text": [
      "\n",
      "Shape\n",
      "\n",
      "(10, 3)\n",
      "\n",
      "Describe\n",
      "\n",
      "        Name  Age  Percentage\n",
      "count     10   10          10\n",
      "unique    10    8          10\n",
      "top     Raj    25          67\n",
      "freq       1    2           1\n",
      "\n",
      "Data types \n",
      "\n",
      "Name          object\n",
      "Age           object\n",
      "Percentage    object\n",
      "dtype: object\n",
      "\n",
      " Row and Columns\n",
      "30\n"
     ]
    }
   ],
   "source": [
    "import pandas as pd\n",
    "df = pd.DataFrame(columns = ['Name','Age','Percentage'])\n",
    "df.loc[1] = ['Raj ',25 ,67]\n",
    "df.loc[2] = ['Sachin ',19 ,87]\n",
    "df.loc[3] = ['Prathamesh ',17 ,55]\n",
    "df.loc[4] = ['Sagar ', 18,65]\n",
    "df.loc[5] = ['Savan ', 20,95]\n",
    "df.loc[6] = ['Shreyas ', 19,88]\n",
    "df.loc[7] = ['Ram ', 25,72]\n",
    "df.loc[8] = ['God ',24 ,62]\n",
    "df.loc[9] = ['Rutik ', 14,51]\n",
    "df.loc[10] = ['Aditya ', 13,45]\n",
    "print(\"\\nShape\\n\")\n",
    "print(df.shape)\n",
    "print(\"\\nDescribe\\n\")\n",
    "print(df.describe())\n",
    "print(\"\\nData types \\n\")\n",
    "print(df.dtypes)\n",
    "print(\"\\n Row and Columns\")\n",
    "print(df.size)"
   ]
  }
 ],
 "metadata": {
  "kernelspec": {
   "display_name": "Python 3 (ipykernel)",
   "language": "python",
   "name": "python3"
  },
  "language_info": {
   "codemirror_mode": {
    "name": "ipython",
    "version": 3
   },
   "file_extension": ".py",
   "mimetype": "text/x-python",
   "name": "python",
   "nbconvert_exporter": "python",
   "pygments_lexer": "ipython3",
   "version": "3.9.5"
  }
 },
 "nbformat": 4,
 "nbformat_minor": 5
}
