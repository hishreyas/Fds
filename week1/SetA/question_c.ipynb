{
 "cells": [
  {
   "cell_type": "code",
   "execution_count": 3,
   "id": "9abd5adc",
   "metadata": {},
   "outputs": [
    {
     "name": "stdout",
     "output_type": "stream",
     "text": [
      "\n",
      " Basic statistical details\n",
      "\n",
      "        Name  Age  Percentage\n",
      "count     10   10          10\n",
      "unique    10    8          10\n",
      "top     Raj    25          67\n",
      "freq       1    2           1\n"
     ]
    }
   ],
   "source": [
    "import pandas as pd\n",
    "df = pd.DataFrame(columns = ['Name','Age','Percentage'])\n",
    "df.loc[1] = ['Raj ',25 ,67]\n",
    "df.loc[2] = ['Sachin ',19 ,87]\n",
    "df.loc[3] = ['Prathamesh ',17 ,55]\n",
    "df.loc[4] = ['Sagar ', 18,65]\n",
    "df.loc[5] = ['Swarup ', 20,95]\n",
    "df.loc[6] = ['Anant ', 19,88]\n",
    "df.loc[7] = ['Ram ', 25,72]\n",
    "df.loc[8] = ['Shreyas ',24 ,62]\n",
    "df.loc[9] = ['God ', 14,51]\n",
    "df.loc[10] = ['Aditya ', 13,45]\n",
    "print(\"\\n Basic statistical details\\n\")\n",
    "print(df.describe())"
   ]
  }
 ],
 "metadata": {
  "kernelspec": {
   "display_name": "Python 3 (ipykernel)",
   "language": "python",
   "name": "python3"
  },
  "language_info": {
   "codemirror_mode": {
    "name": "ipython",
    "version": 3
   },
   "file_extension": ".py",
   "mimetype": "text/x-python",
   "name": "python",
   "nbconvert_exporter": "python",
   "pygments_lexer": "ipython3",
   "version": "3.9.5"
  }
 },
 "nbformat": 4,
 "nbformat_minor": 5
}
