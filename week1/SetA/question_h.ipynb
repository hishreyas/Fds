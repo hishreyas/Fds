{
 "cells": [
  {
   "cell_type": "code",
   "execution_count": 2,
   "id": "f4aee1c3",
   "metadata": {},
   "outputs": [
    {
     "name": "stderr",
     "output_type": "stream",
     "text": [
      "/data/data/com.termux/files/usr/lib/python3.9/site-packages/matplotlib/bezier.py:216: RuntimeWarning: divide by zero encountered in power\n",
      "  return (np.power.outer(1 - t, self._orders[::-1])\n",
      "/data/data/com.termux/files/usr/lib/python3.9/site-packages/matplotlib/bezier.py:217: RuntimeWarning: divide by zero encountered in power\n",
      "  * np.power.outer(t, self._orders)) @ self._px\n"
     ]
    },
    {
     "data": {
      "image/png": "[encoded data removed]",
      "text/plain": [
       "<Figure size 432x288 with 1 Axes>"
      ]
     },
     "metadata": {
      "needs_background": "light"
     },
     "output_type": "display_data"
    }
   ],
   "source": [
    "import numpy as np\n",
    "import matplotlib.pyplot as plt\n",
    "import pandas as pd\n",
    "df = pd.DataFrame(columns = ['Name','Age','Percentage'])\n",
    "df.loc[1] = ['Prathamesh',20 ,96]\n",
    "df.loc[2] = ['sachin',23,87]\n",
    "df.loc[3] = ['Rutik',21 ,94]\n",
    "df.loc[4] = ['Ram ', 18, 72]\n",
    "df.loc[5] = ['sahil ', 24,91]\n",
    "df.loc[6] = [' sagar', 21,88]\n",
    "df.loc[7] = ['Shreyash',25,68]\n",
    "df.loc[8] = ['RAJ ',22 ,82]\n",
    "df.loc[9] = ['RAGAV ', 23, 78]\n",
    "df.loc[10] = ['Deva ', 17,70]\n",
    "df.plot.scatter(x= \"Name\", y = \"Percentage\")\n",
    "plt.show()"
   ]
  }
 ],
 "metadata": {
  "kernelspec": {
   "display_name": "Python 3 (ipykernel)",
   "language": "python",
   "name": "python3"
  },
  "language_info": {
   "codemirror_mode": {
    "name": "ipython",
    "version": 3
   },
   "file_extension": ".py",
   "mimetype": "text/x-python",
   "name": "python",
   "nbconvert_exporter": "python",
   "pygments_lexer": "ipython3",
   "version": "3.9.5"
  }
 },
 "nbformat": 4,
 "nbformat_minor": 5
}
