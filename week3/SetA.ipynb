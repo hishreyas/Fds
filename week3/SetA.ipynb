{
 "cells": [
  {
   "cell_type": "code",
   "execution_count": 1,
   "id": "519dc0a8",
   "metadata": {},
   "outputs": [
    {
     "name": "stdout",
     "output_type": "stream",
     "text": [
      "[[0 1]\n",
      " [2 3]]\n",
      "flatten array is : [0 1 2 3]\n",
      "Maximum value of the above flattened array:\n",
      " 3\n",
      "Minimum value of the above flattened array:\n",
      " 0\n"
     ]
    }
   ],
   "source": [
    "#Question 1\n",
    "import numpy as np\n",
    "demo = np.array([[0,1],[2,3]])\n",
    "print(demo)\n",
    "a=demo.flatten()\n",
    "print(\"flatten array is :\",a)\n",
    "print(\"Maximum value of the above flattened array:\\n\",demo.max())\n",
    "print(\"Minimum value of the above flattened array:\\n\",demo.min())"
   ]
  },
  {
   "cell_type": "code",
   "execution_count": 2,
   "id": "75df84ac",
   "metadata": {},
   "outputs": [
    {
     "name": "stdout",
     "output_type": "stream",
     "text": [
      "Euclidian Distance between two data points is: 2.8284271247461903\n"
     ]
    }
   ],
   "source": [
    "#Question 2\n",
    "import numpy as np\n",
    "point1 = np.array((0,1))\n",
    "point2 = np.array((2,3))\n",
    "dist = np.linalg.norm(point1 - point2)\n",
    "print(\"Euclidian Distance between two data points is:\",dist)"
   ]
  },
  {
   "cell_type": "code",
   "execution_count": 30,
   "id": "81b42852",
   "metadata": {},
   "outputs": [
    {
     "name": "stdout",
     "output_type": "stream",
     "text": [
      "Mean of data set is 78.45\n",
      "Mean of data set is 78.45\n",
      "\n",
      " Value of Range in the Distribution =  114\n",
      "IQR= 34.0\n"
     ]
    }
   ],
   "source": [
    "#Question 3\n",
    "from statistics import mean\n",
    "import pandas as pd\n",
    "data = [2, 36, 46, 47, 56, 69, 75, 79, 79, 88, 89, 91, 92, 93, 96, 97,\n",
    "101, 105, 112, 116]\n",
    "df = pd.DataFrame(data, columns = ['Age'])\n",
    "print(\"Mean of data set is % s\" % (mean(data)))\n",
    "\n",
    "from statistics import mean\n",
    "\n",
    "import pandas as pd\n",
    "\n",
    "data = [2, 36, 46, 47, 56, 69, 75, 79, 79, 88, 89, 91, 92, 93, 96, 97,\n",
    "\n",
    "101, 105, 112, 116]\n",
    "\n",
    "df = pd.DataFrame(data, columns = ['Age'])\n",
    "\n",
    "print(\"Mean of data set is % s\" % (mean(data)))\n",
    "\n",
    "\n",
    "\n",
    "\n",
    "r=max(df[\"Age\"]) - min(df[\"Age\"])\n",
    "\n",
    "print(\"\\n Value of Range in the Distribution = \", r)\n",
    "\n",
    "\n",
    "Q1 = np.median(data[:10])\n",
    "\n",
    "# Third quartile (Q3)\n",
    "\n",
    "Q3 = np.median(data[10:])\n",
    "\n",
    "# Interquartile range (IQR)\n",
    "\n",
    "IQR = Q3 - Q1\n",
    "\n",
    "print(\"IQR=\",IQR)\n",
    "A = [1,2,3]\n",
    "\n",
    "B = [4,5,6]"
   ]
  },
  {
   "cell_type": "code",
   "execution_count": 26,
   "id": "fcb3e411",
   "metadata": {},
   "outputs": [
    {
     "name": "stdout",
     "output_type": "stream",
     "text": [
      "First Array is:  [1, 2, 3]\n",
      "Second Array is:  [4, 5, 6]\n",
      "Manhattan Distance is:  9\n"
     ]
    }
   ],
   "source": [
    "#Question 4\n",
    "dis = 0\n",
    "for i in range(len(A)):\n",
    "    dis += abs(A[i] - B[i])\n",
    "\n",
    "print(\"First Array is: \", A)\n",
    "\n",
    "print(\"Second Array is: \", B)\n",
    "\n",
    "print(\"Manhattan Distance is: \", dis)"
   ]
  },
  {
   "cell_type": "code",
   "execution_count": 12,
   "id": "1bfdeb8a",
   "metadata": {},
   "outputs": [
    {
     "name": "stdout",
     "output_type": "stream",
     "text": [
      "nums:  [0.5 0.7 1.  1.2 1.3 2.1]\n",
      "bins:  [0 1 2 3]\n",
      "Result: (array([2, 3, 1]), array([0, 1, 2, 3]))\n"
     ]
    },
    {
     "data": {
      "image/png": "[encoded data removed]",
      "text/plain": [
       "<Figure size 432x288 with 1 Axes>"
      ]
     },
     "metadata": {
      "needs_background": "light"
     },
     "output_type": "display_data"
    }
   ],
   "source": [
    "#Question 5\n",
    "import numpy as np\n",
    "import matplotlib.pyplot as plt\n",
    "nums = np.array([0.5, 0.7, 1.0, 1.2, 1.3, 2.1])\n",
    "bins = np.array([0, 1, 2, 3])\n",
    "print(\"nums: \",nums)\n",
    "print(\"bins: \",bins)\n",
    "print(\"Result:\", np.histogram(nums, bins))\n",
    "plt.hist(nums, bins=bins)\n",
    "plt.show()"
   ]
  },
  {
   "cell_type": "code",
   "execution_count": 33,
   "id": "07af38a8",
   "metadata": {},
   "outputs": [
    {
     "name": "stdout",
     "output_type": "stream",
     "text": [
      "       name                     graduation percentage age\n",
      "0  Victoria    B.Sc. (Bachelor of Science)         60  20\n",
      "1     Sawan  B.Com. (Bachelor of Commerce)         70  20\n",
      "2     Varan        B.A. (Bachelor of Arts)         70  20\n",
      "3    Ayushi        B.A. (Bachelor of Arts)         80  20\n",
      "age average= 20.0\n",
      "percentage average= 70.0\n",
      "stat=             name               graduation  percentage  age\n",
      "count          4                        4           4    4\n",
      "unique         4                        3           3    1\n",
      "top     Victoria  B.A. (Bachelor of Arts)          70   20\n",
      "freq           1                        2           2    4\n"
     ]
    }
   ],
   "source": [
    "#Question 6\n",
    "import pandas as pd\n",
    "\n",
    "df = pd.DataFrame(columns = ['name','graduation','percentage','age'])\n",
    "\n",
    "#Add records\n",
    "\n",
    "df.loc[0] = ['Victoria','B.Sc. (Bachelor of Science)', 60,20]\n",
    "\n",
    "df.loc[1] = ['Sawan', 'B.Com. (Bachelor of Commerce)', 70,20]\n",
    "\n",
    "df.loc[2] = ['Varan', 'B.A. (Bachelor of Arts)', 70,20]\n",
    "\n",
    "df.loc[3] = ['Ayushi', 'B.A. (Bachelor of Arts)', 80,20]\n",
    "\n",
    "#Print the dataframe\n",
    "\n",
    "print(df)\n",
    "print(\"age average=\",df[\"age\"].mean())\n",
    "print(\"percentage average=\",df[\"percentage\"].mean())\n",
    "print(\"stat=\",df.describe())\n"
   ]
  }
 ],
 "metadata": {
  "kernelspec": {
   "display_name": "Python 3 (ipykernel)",
   "language": "python",
   "name": "python3"
  },
  "language_info": {
   "codemirror_mode": {
    "name": "ipython",
    "version": 3
   },
   "file_extension": ".py",
   "mimetype": "text/x-python",
   "name": "python",
   "nbconvert_exporter": "python",
   "pygments_lexer": "ipython3",
   "version": "3.9.5"
  }
 },
 "nbformat": 4,
 "nbformat_minor": 5
}
